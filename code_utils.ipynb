{
 "cells": [
  {
   "cell_type": "code",
   "execution_count": null,
   "id": "bf411305",
   "metadata": {},
   "outputs": [],
   "source": [
    "import torch\n",
    "import numpy as np\n",
    "import matplotlib.pyplot as plt"
   ]
  },
  {
   "cell_type": "code",
   "execution_count": null,
   "id": "4314bab5",
   "metadata": {},
   "outputs": [],
   "source": [
    "import os, json"
   ]
  },
  {
   "cell_type": "code",
   "execution_count": null,
   "id": "a84afd48",
   "metadata": {},
   "outputs": [],
   "source": [
    "path_to_data = \"/home/basti/Dropbox (UiO)/MEK3700/data/\"\n",
    "\n",
    "dataset = \"brain2dclipp1\""
   ]
  },
  {
   "cell_type": "markdown",
   "id": "b76ad797",
   "metadata": {},
   "source": [
    "# Read and show binary masks"
   ]
  },
  {
   "cell_type": "code",
   "execution_count": null,
   "id": "858bc45e",
   "metadata": {},
   "outputs": [],
   "source": [
    "brainmask = np.load(path_to_data + dataset +  \"/masks/mask.npy\")\n",
    "box = np.load(path_to_data + dataset +  \"/masks/box.npy\")\n",
    "\n",
    "roi = brainmask * box"
   ]
  },
  {
   "cell_type": "code",
   "execution_count": null,
   "id": "0cf984e5",
   "metadata": {
    "scrolled": false
   },
   "outputs": [],
   "source": [
    "plt.figure(dpi=200)\n",
    "plt.imshow(brainmask)\n",
    "plt.show()\n",
    "\n",
    "plt.figure(dpi=200)\n",
    "plt.imshow(roi)\n",
    "plt.show()\n",
    "\n",
    "plt.figure(dpi=200)\n",
    "plt.imshow(brainmask + 2 * roi)\n",
    "plt.show()"
   ]
  },
  {
   "cell_type": "markdown",
   "id": "8c2f2449",
   "metadata": {},
   "source": [
    "# Read images to dict"
   ]
  },
  {
   "cell_type": "code",
   "execution_count": null,
   "id": "f33a04d5",
   "metadata": {},
   "outputs": [],
   "source": [
    "def load_images(path_to_data, dataset):\n",
    "    path_to_concentrations = path_to_data + dataset +  \"/concentrations/\"\n",
    "    \n",
    "    images = {}\n",
    "    \n",
    "    for cfile in os.listdir(path_to_concentrations):\n",
    "        \n",
    "        c = np.load(path_to_concentrations + cfile)\n",
    "        \n",
    "        images[cfile[:-4]] = c\n",
    "        \n",
    "    return images\n",
    "    "
   ]
  },
  {
   "cell_type": "code",
   "execution_count": null,
   "id": "aff73fbd",
   "metadata": {},
   "outputs": [],
   "source": [
    "images = load_images(path_to_data, dataset)"
   ]
  },
  {
   "cell_type": "code",
   "execution_count": null,
   "id": "d0810f51",
   "metadata": {},
   "outputs": [],
   "source": [
    "images.keys()"
   ]
  },
  {
   "cell_type": "code",
   "execution_count": null,
   "id": "436b05f1",
   "metadata": {},
   "outputs": [],
   "source": [
    "plt.figure(dpi=200)\n",
    "plt.imshow(images[\"24.00\"] * brainmask)\n",
    "plt.colorbar()\n",
    "plt.show()"
   ]
  },
  {
   "cell_type": "markdown",
   "id": "72c0d9ea",
   "metadata": {},
   "source": [
    "# Use json and dicts to store parameters"
   ]
  },
  {
   "cell_type": "code",
   "execution_count": null,
   "id": "13091af3",
   "metadata": {},
   "outputs": [],
   "source": [
    "param_dict ={\"a\": 1}\n",
    "param_dict[\"b\"] = 2\n",
    "\n",
    "print(\"dict:\", param_dict)\n",
    "print(\"keys:\", param_dict.keys())\n",
    "print(\"items:\", param_dict.items())\n",
    "print(\"item a\", param_dict[\"a\"])"
   ]
  },
  {
   "cell_type": "code",
   "execution_count": null,
   "id": "8704ba8e",
   "metadata": {},
   "outputs": [],
   "source": [
    "exportfolder = \"/home/basti/programming/pytorchdemo/\"\n",
    "with open(exportfolder + 'my_parameters.json', 'w') as fp:\n",
    "    json.dump(param_dict, fp, sort_keys=True, indent=4)\n",
    "    \n",
    "with open(exportfolder + 'my_parameters.json', 'r') as data_file:    \n",
    "    loaded_dict = json.load(data_file)\n",
    "    \n",
    "print(param_dict)\n",
    "print(\"Loaded back:\", loaded_dict)"
   ]
  },
  {
   "cell_type": "markdown",
   "id": "732fc250",
   "metadata": {},
   "source": [
    "# Create spatial coordinates\n",
    "\n",
    "We first create a 256x256x2 array where arr[i,j, :] = (x_i, y_i) is the position of voxel (i,j)"
   ]
  },
  {
   "cell_type": "code",
   "execution_count": null,
   "id": "dfa79cb5",
   "metadata": {},
   "outputs": [],
   "source": [
    "def make_coordinate_grid(images, n=256):\n",
    "    \"\"\" Create a (n x n x 2) array where arr[i,j, :] = (x_i, y_i) is the position of voxel (i,j)\"\"\"\n",
    "\n",
    "    # We want to assign coordinates to every voxel, so the shape of the meshgrid has to be the same as the image\n",
    "    assert n == images[next(iter(images.keys()))].shape[0]\n",
    "    assert n == images[next(iter(images.keys()))].shape[1]\n",
    "    \n",
    "    coordinate_axis = np.linspace(-0.5, 0.5, n)\n",
    "    \n",
    "    XX, YY = np.meshgrid(coordinate_axis, coordinate_axis, indexing='ij')\n",
    "    \n",
    "    arr = np.array([XX, YY])\n",
    "\n",
    "    coordinate_grid = np.swapaxes(arr, 0, 1)\n",
    "    coordinate_grid = np.swapaxes(coordinate_grid, 1, 2)\n",
    "    \n",
    "    return coordinate_grid"
   ]
  },
  {
   "cell_type": "code",
   "execution_count": null,
   "id": "ee117f10",
   "metadata": {},
   "outputs": [],
   "source": [
    "coordinate_grid = make_coordinate_grid(images)"
   ]
  },
  {
   "cell_type": "code",
   "execution_count": null,
   "id": "f5ded275",
   "metadata": {},
   "outputs": [],
   "source": [
    "plt.figure(dpi=200)\n",
    "plt.plot(coordinate_grid[..., 0], coordinate_grid[..., 1], marker=\".\", linewidth=0, markersize=0.1, color=\"k\")\n",
    "# plt.xlim(0, 0.1)\n",
    "plt.show()"
   ]
  },
  {
   "cell_type": "code",
   "execution_count": null,
   "id": "bd52f177",
   "metadata": {},
   "outputs": [],
   "source": []
  },
  {
   "cell_type": "code",
   "execution_count": null,
   "id": "b96acb27",
   "metadata": {},
   "outputs": [],
   "source": []
  },
  {
   "cell_type": "markdown",
   "id": "90c8010b",
   "metadata": {},
   "source": [
    "# Map out voxels inside the brain, and get only their coordinates as a list\n",
    "\n"
   ]
  },
  {
   "cell_type": "code",
   "execution_count": null,
   "id": "bf8cfd4a",
   "metadata": {},
   "outputs": [],
   "source": [
    "def get_domain_coordinates(coordinate_grid, mask):\n",
    "    return coordinate_grid[mask]   "
   ]
  },
  {
   "cell_type": "code",
   "execution_count": null,
   "id": "196ff540",
   "metadata": {},
   "outputs": [],
   "source": [
    "xy = get_domain_coordinates(coordinate_grid, mask=brainmask)"
   ]
  },
  {
   "cell_type": "code",
   "execution_count": null,
   "id": "78369206",
   "metadata": {},
   "outputs": [],
   "source": [
    "def nn(xyt):\n",
    "    return np.sin(xyt[:, 0]*np.pi)"
   ]
  },
  {
   "cell_type": "code",
   "execution_count": null,
   "id": "38ed78cb",
   "metadata": {},
   "outputs": [],
   "source": [
    "plt.scatter(xy[:,0], xy[:, 1], c=nn(xy) ,s=0.1)"
   ]
  },
  {
   "cell_type": "code",
   "execution_count": null,
   "id": "e8dd1cb3",
   "metadata": {},
   "outputs": [],
   "source": []
  },
  {
   "cell_type": "code",
   "execution_count": null,
   "id": "2001153b",
   "metadata": {},
   "outputs": [],
   "source": [
    "def get_input_output_pairs(coordinate_grid, mask, images):\n",
    "    \n",
    "    input_output_pairs = {}\n",
    "    \n",
    "    xy = get_domain_coordinates(coordinate_grid, mask)\n",
    "    \n",
    "    for timekey, image in images.items():\n",
    "        \n",
    "        xyt = np.zeros((xy.shape[0], 3))\n",
    "        xyt[..., :2] = xy\n",
    "        xyt[..., -1] = float(timekey)\n",
    "        \n",
    "        input_output_pairs[timekey] = (xyt, image[mask])\n",
    "        \n",
    "    return input_output_pairs"
   ]
  },
  {
   "cell_type": "code",
   "execution_count": null,
   "id": "93431db2",
   "metadata": {},
   "outputs": [],
   "source": [
    "datadict = get_input_output_pairs(coordinate_grid, mask=brainmask, images=images)"
   ]
  },
  {
   "cell_type": "markdown",
   "id": "780c9b79",
   "metadata": {},
   "source": [
    "### xyt is an array where xyt[i,j, :] = (x_i, y_j, t)  (voxel coordinates at first two indices and time at last index)"
   ]
  },
  {
   "cell_type": "code",
   "execution_count": null,
   "id": "4a1ae045",
   "metadata": {},
   "outputs": [],
   "source": [
    "# t = \"00.00\"\n",
    "t = \"24.00\"\n",
    "xyt = datadict[t][0]\n",
    "data_at_t = datadict[t][1]"
   ]
  },
  {
   "cell_type": "code",
   "execution_count": null,
   "id": "333bd197",
   "metadata": {},
   "outputs": [],
   "source": [
    "plt.figure(dpi=200)\n",
    "plt.plot(xyt[..., 0], xyt[..., 1], marker=\".\", linewidth=0, markersize=0.1, color=\"k\")\n",
    "# plt.xlim(0, 0.1)\n",
    "plt.xlabel(\"x\", fontsize=12)\n",
    "plt.ylabel(\"y\", fontsize=12)\n",
    "plt.show()\n",
    "\n",
    "plt.figure(dpi=200)\n",
    "plt.scatter(xyt[..., 0], xyt[..., 1], c=data_at_t)\n",
    "# plt.xlim(0, 0.1)\n",
    "plt.colorbar()\n",
    "plt.xlabel(\"x\", fontsize=12)\n",
    "plt.ylabel(\"y\", fontsize=12)\n",
    "plt.show()"
   ]
  },
  {
   "cell_type": "markdown",
   "id": "21c9ed5d",
   "metadata": {},
   "source": [
    "# Do the same for the small region"
   ]
  },
  {
   "cell_type": "code",
   "execution_count": null,
   "id": "a83beea4",
   "metadata": {},
   "outputs": [],
   "source": [
    "datadict = get_input_output_pairs(coordinate_grid, mask=roi, images=images)\n",
    "# t = \"00.00\"\n",
    "t = \"24.00\"\n",
    "xyt = datadict[t][0]\n",
    "data_at_t = datadict[t][1]"
   ]
  },
  {
   "cell_type": "code",
   "execution_count": null,
   "id": "f572a880",
   "metadata": {},
   "outputs": [],
   "source": [
    "plt.figure(dpi=200)\n",
    "plt.scatter(xyt[..., 0], xyt[..., 1], c=data_at_t)\n",
    "# plt.xlim(0, 0.1)\n",
    "plt.colorbar()\n",
    "plt.xlabel(\"x\", fontsize=12)\n",
    "plt.ylabel(\"y\", fontsize=12)\n",
    "plt.show()"
   ]
  },
  {
   "cell_type": "markdown",
   "id": "ad8323aa",
   "metadata": {},
   "source": [
    "# If you want to create PDE points, sample randomly in time:"
   ]
  },
  {
   "cell_type": "code",
   "execution_count": null,
   "id": "165b7edc",
   "metadata": {},
   "outputs": [],
   "source": [
    "n_pde = int(1e5)"
   ]
  },
  {
   "cell_type": "code",
   "execution_count": null,
   "id": "35438ded",
   "metadata": {},
   "outputs": [],
   "source": [
    "def init_collocation_points(coords, num_points, t_max, t_min ):\n",
    "    with torch.no_grad():\n",
    "\n",
    "        assert len(coords.shape) == 2, \"Assert mask has been applied\"\n",
    "\n",
    "        random_ints = torch.randint(high=coords.size(0), size=(num_points,), device=coords.device)    \n",
    "        coords = coords[random_ints, :]\n",
    "    \n",
    "        a = (np.random.rand(coords.shape[0]))\n",
    "        # a = lhs(1, coords.shape[0]).flatten().astype(float)\n",
    "        random_times = torch.from_numpy(a).to(coords.device)\n",
    "        t = (random_times * (t_max - t_min) + t_min)\n",
    "\n",
    "        coords[..., -1] = t\n",
    "\n",
    "        print(\"Initialized collocation points with mean t = \",\n",
    "            format(torch.mean(t).item(), \".2f\"),\n",
    "            \", min t = \", format(torch.min(t).item(), \".2f\"),\n",
    "            \", max t = \", format(torch.max(t).item(), \".2f\"))\n",
    "\n",
    "    return coords"
   ]
  },
  {
   "cell_type": "code",
   "execution_count": null,
   "id": "395d87f5",
   "metadata": {},
   "outputs": [],
   "source": [
    "coords = torch.from_numpy(xyt)"
   ]
  },
  {
   "cell_type": "code",
   "execution_count": null,
   "id": "7ac9ef7b",
   "metadata": {},
   "outputs": [],
   "source": [
    "tmax = float(max(datadict.keys()))\n",
    "tmin = float(min(datadict.keys()))"
   ]
  },
  {
   "cell_type": "code",
   "execution_count": null,
   "id": "b2b1febe",
   "metadata": {},
   "outputs": [],
   "source": [
    "pde_points = init_collocation_points(coords, num_points=int(1e6), t_max=tmax, t_min=tmin)"
   ]
  },
  {
   "cell_type": "code",
   "execution_count": null,
   "id": "40122a74",
   "metadata": {},
   "outputs": [],
   "source": [
    "pde_points"
   ]
  },
  {
   "cell_type": "code",
   "execution_count": null,
   "id": "21164d20",
   "metadata": {},
   "outputs": [],
   "source": [
    "plt.hist(pde_points[..., -1].numpy(), bins=int(tmax))\n",
    "plt.ylabel(\"Number of pde points\")\n",
    "plt.xlabel(\"time\")\n",
    "plt.show()"
   ]
  },
  {
   "cell_type": "markdown",
   "id": "7750d852",
   "metadata": {},
   "source": [
    "# Compute the PDE loss "
   ]
  },
  {
   "cell_type": "code",
   "execution_count": null,
   "id": "c52918ac",
   "metadata": {},
   "outputs": [],
   "source": [
    "def pderesidual(coords, nn, D):\n",
    "        \"\"\"\n",
    "        coords = pde_points\n",
    "        nn = neural network\n",
    "        D = diffusion coefficient\n",
    "        \n",
    "        \"\"\"\n",
    "        \n",
    "        assert isinstance(D, torch.nn.Parameter)\n",
    "        assert coords.shape[-1] == 3, \"your array should have size N x 3\"\n",
    "        \n",
    "        coords.requires_grad = True\n",
    "        output = nn(coords).squeeze()\n",
    "\n",
    "        ones = torch.ones_like(output)\n",
    "\n",
    "        output_grad, = torch.autograd.grad(outputs=output,\n",
    "                                        inputs=coords,\n",
    "                                        grad_outputs=ones,\n",
    "                                        create_graph=True)\n",
    "        doutput_dt = output_grad[..., -1]\n",
    "        doutput_dx = output_grad[..., 0]\n",
    "        doutput_dy = output_grad[..., 1]\n",
    "        \n",
    "        ddoutput_dxx, = torch.autograd.grad(outputs=doutput_dx,\n",
    "                                            inputs=coords,\n",
    "                                            grad_outputs=ones,\n",
    "                                            create_graph=True)\n",
    "\n",
    "        ddoutput_dyy, = torch.autograd.grad(outputs=doutput_dy,\n",
    "                                            inputs=coords,\n",
    "                                            grad_outputs=ones,\n",
    "                                            create_graph=True)\n",
    "\n",
    "        ddoutput_dxx = ddoutput_dxx[..., 0]\n",
    "        ddoutput_dyy = ddoutput_dyy[..., 1]\n",
    "\n",
    "        laplacian = (ddoutput_dxx + ddoutput_dyy)\n",
    "\n",
    "        residual = doutput_dt - D * laplacian\n",
    "\n",
    "        assert output.shape == residual.shape\n",
    "\n",
    "        return residual"
   ]
  },
  {
   "cell_type": "code",
   "execution_count": null,
   "id": "1f41272e",
   "metadata": {},
   "outputs": [],
   "source": []
  },
  {
   "cell_type": "code",
   "execution_count": null,
   "id": "158bb538",
   "metadata": {},
   "outputs": [],
   "source": []
  },
  {
   "cell_type": "code",
   "execution_count": null,
   "id": "2bdbe91d",
   "metadata": {},
   "outputs": [],
   "source": []
  },
  {
   "cell_type": "code",
   "execution_count": null,
   "id": "c44c949c",
   "metadata": {},
   "outputs": [],
   "source": []
  },
  {
   "cell_type": "code",
   "execution_count": null,
   "id": "40b14062",
   "metadata": {},
   "outputs": [],
   "source": []
  },
  {
   "cell_type": "code",
   "execution_count": null,
   "id": "163e2602",
   "metadata": {},
   "outputs": [],
   "source": []
  },
  {
   "cell_type": "code",
   "execution_count": null,
   "id": "a02f980b",
   "metadata": {},
   "outputs": [],
   "source": []
  },
  {
   "cell_type": "code",
   "execution_count": null,
   "id": "590fc249",
   "metadata": {},
   "outputs": [],
   "source": []
  },
  {
   "cell_type": "code",
   "execution_count": null,
   "id": "a29a2e8a",
   "metadata": {},
   "outputs": [],
   "source": []
  },
  {
   "cell_type": "code",
   "execution_count": null,
   "id": "3ee5f846",
   "metadata": {},
   "outputs": [],
   "source": []
  }
 ],
 "metadata": {
  "kernelspec": {
   "display_name": "Python 3 (ipykernel)",
   "language": "python",
   "name": "python3"
  },
  "language_info": {
   "codemirror_mode": {
    "name": "ipython",
    "version": 3
   },
   "file_extension": ".py",
   "mimetype": "text/x-python",
   "name": "python",
   "nbconvert_exporter": "python",
   "pygments_lexer": "ipython3",
   "version": "3.8.13"
  }
 },
 "nbformat": 4,
 "nbformat_minor": 5
}
